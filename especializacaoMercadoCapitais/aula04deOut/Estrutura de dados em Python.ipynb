{
 "cells": [
  {
   "cell_type": "markdown",
   "id": "efa2be3b",
   "metadata": {},
   "source": [
    "# Estrutura de dados em Python\n",
    "## Listas"
   ]
  },
  {
   "cell_type": "code",
   "execution_count": 1,
   "id": "394ae78d",
   "metadata": {},
   "outputs": [
    {
     "name": "stdout",
     "output_type": "stream",
     "text": [
      "[1, 'b', 2.3]\n"
     ]
    },
    {
     "data": {
      "text/plain": [
       "list"
      ]
     },
     "execution_count": 1,
     "metadata": {},
     "output_type": "execute_result"
    }
   ],
   "source": [
    "# Listagem 1\n",
    "a = [1,\"b\",2.3]\n",
    "print(a)\n",
    "type(a)"
   ]
  },
  {
   "cell_type": "code",
   "execution_count": 2,
   "id": "390e9f65",
   "metadata": {},
   "outputs": [
    {
     "name": "stdout",
     "output_type": "stream",
     "text": [
      "[[1, 'b', 2.3], 7]\n"
     ]
    },
    {
     "data": {
      "text/plain": [
       "list"
      ]
     },
     "execution_count": 2,
     "metadata": {},
     "output_type": "execute_result"
    }
   ],
   "source": [
    "# Listagem 2\n",
    "\n",
    "b = [a,7]\n",
    "print(b)\n",
    "type(b)"
   ]
  },
  {
   "cell_type": "code",
   "execution_count": 3,
   "id": "74db4242",
   "metadata": {},
   "outputs": [
    {
     "name": "stdout",
     "output_type": "stream",
     "text": [
      "1\n",
      "[1, 'b', 2.3]\n",
      "7\n"
     ]
    },
    {
     "data": {
      "text/plain": [
       "list"
      ]
     },
     "execution_count": 3,
     "metadata": {},
     "output_type": "execute_result"
    }
   ],
   "source": [
    "# Acessando os elementos de uma lista\n",
    "\n",
    "print(a[0])\n",
    "print(b[0])\n",
    "print(b[1])\n",
    "type(b[0])"
   ]
  },
  {
   "cell_type": "code",
   "execution_count": 4,
   "id": "f02139ba",
   "metadata": {},
   "outputs": [
    {
     "name": "stdout",
     "output_type": "stream",
     "text": [
      "[1, 'b', 7.9]\n"
     ]
    }
   ],
   "source": [
    "# Alterando elementos de uma lista\n",
    "a[2] = 7.9\n",
    "print(a)"
   ]
  },
  {
   "cell_type": "code",
   "execution_count": 5,
   "id": "498bb9b3",
   "metadata": {},
   "outputs": [
    {
     "ename": "TypeError",
     "evalue": "'<' not supported between instances of 'str' and 'int'",
     "output_type": "error",
     "traceback": [
      "\u001b[1;31m---------------------------------------------------------------------------\u001b[0m",
      "\u001b[1;31mTypeError\u001b[0m                                 Traceback (most recent call last)",
      "Cell \u001b[1;32mIn[5], line 2\u001b[0m\n\u001b[0;32m      1\u001b[0m \u001b[38;5;66;03m# Ordenando os elementos de uma lista\u001b[39;00m\n\u001b[1;32m----> 2\u001b[0m c \u001b[38;5;241m=\u001b[39m a\u001b[38;5;241m.\u001b[39msort()\n\u001b[0;32m      3\u001b[0m \u001b[38;5;28mprint\u001b[39m(c)\n",
      "\u001b[1;31mTypeError\u001b[0m: '<' not supported between instances of 'str' and 'int'"
     ]
    }
   ],
   "source": [
    "# Ordenando os elementos de uma lista\n",
    "c = a.sort()\n",
    "print(c)"
   ]
  },
  {
   "cell_type": "code",
   "execution_count": 8,
   "id": "935c1dfa",
   "metadata": {},
   "outputs": [
    {
     "name": "stdout",
     "output_type": "stream",
     "text": [
      "[-412, 1, 9, 31.7, 97]\n",
      "None\n"
     ]
    }
   ],
   "source": [
    "d = [1, 97, 9, -412, 31.7]\n",
    "e = d.sort()\n",
    "print(d)\n",
    "print(e)     # .sort() não cria um novo elemento"
   ]
  },
  {
   "cell_type": "code",
   "execution_count": 9,
   "id": "38e79c1f",
   "metadata": {},
   "outputs": [
    {
     "name": "stdout",
     "output_type": "stream",
     "text": [
      "[1, 5, -3]\n",
      "[-3, 1, 5]\n"
     ]
    }
   ],
   "source": [
    "f = [1, 5, -3]\n",
    "g = sorted(f)   # cria um novo elemento\n",
    "print(f)\n",
    "print(g)"
   ]
  },
  {
   "cell_type": "code",
   "execution_count": null,
   "id": "ac05e635",
   "metadata": {},
   "outputs": [],
   "source": []
  }
 ],
 "metadata": {
  "kernelspec": {
   "display_name": "Python 3 (ipykernel)",
   "language": "python",
   "name": "python3"
  },
  "language_info": {
   "codemirror_mode": {
    "name": "ipython",
    "version": 3
   },
   "file_extension": ".py",
   "mimetype": "text/x-python",
   "name": "python",
   "nbconvert_exporter": "python",
   "pygments_lexer": "ipython3",
   "version": "3.11.5"
  }
 },
 "nbformat": 4,
 "nbformat_minor": 5
}
