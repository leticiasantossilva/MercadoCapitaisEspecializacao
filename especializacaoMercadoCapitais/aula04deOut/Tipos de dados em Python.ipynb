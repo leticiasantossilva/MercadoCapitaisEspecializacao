{
 "cells": [
  {
   "cell_type": "markdown",
   "id": "5742addf",
   "metadata": {},
   "source": [
    "# Tipos de dados em Python\n",
    "Os tipos básicos de dados em Python são:\n",
    "1. Lógico - bool\n",
    "2. Inteiro - int\n",
    "3. Real - float"
   ]
  },
  {
   "cell_type": "markdown",
   "id": "bce8cb6f",
   "metadata": {},
   "source": [
    "## Tipo lógico ou booleano\n",
    "Há dois valores booleanos:\n",
    "- True\n",
    "- False"
   ]
  },
  {
   "cell_type": "code",
   "execution_count": 2,
   "id": "f2878324",
   "metadata": {},
   "outputs": [
    {
     "name": "stdout",
     "output_type": "stream",
     "text": [
      "True\n"
     ]
    }
   ],
   "source": [
    "# Listagem 1: tipos lógicos\n",
    "verdadeiro: bool = True\n",
    "\n",
    "print(verdadeiro)"
   ]
  },
  {
   "cell_type": "code",
   "execution_count": 3,
   "id": "26304eff",
   "metadata": {},
   "outputs": [
    {
     "name": "stdout",
     "output_type": "stream",
     "text": [
      "False\n"
     ]
    }
   ],
   "source": [
    "# Listagem 2:\n",
    "falso: bool = False\n",
    "print(falso)"
   ]
  },
  {
   "cell_type": "markdown",
   "id": "6e5b9c95",
   "metadata": {},
   "source": [
    "## Tipo Inteiro\n",
    "O tipo inteiro é representado por int. Veja a listagem abaixo:"
   ]
  },
  {
   "cell_type": "code",
   "execution_count": 4,
   "id": "851f5ea1",
   "metadata": {},
   "outputs": [
    {
     "data": {
      "text/plain": [
       "int"
      ]
     },
     "execution_count": 4,
     "metadata": {},
     "output_type": "execute_result"
    }
   ],
   "source": [
    "# Listagem 3:\n",
    "x = 7\n",
    "type(x)"
   ]
  },
  {
   "cell_type": "markdown",
   "id": "d99c3668",
   "metadata": {},
   "source": [
    "## Tipo Float\n",
    "O tipo float é para armazenar números reais. Veja a listagem abaixo:"
   ]
  },
  {
   "cell_type": "code",
   "execution_count": 6,
   "id": "d0daa960",
   "metadata": {},
   "outputs": [
    {
     "data": {
      "text/plain": [
       "float"
      ]
     },
     "execution_count": 6,
     "metadata": {},
     "output_type": "execute_result"
    }
   ],
   "source": [
    "# Listagem 4:\n",
    "y = 7.5\n",
    "\n",
    "type(y)"
   ]
  },
  {
   "cell_type": "markdown",
   "id": "3db95f18",
   "metadata": {},
   "source": [
    "## Tipo String\n",
    "O tipo string é usado para armazenar texto. Veja a listagem abaixo:"
   ]
  },
  {
   "cell_type": "code",
   "execution_count": 7,
   "id": "21a18776",
   "metadata": {},
   "outputs": [
    {
     "name": "stdout",
     "output_type": "stream",
     "text": [
      "Bom dia!\n"
     ]
    },
    {
     "data": {
      "text/plain": [
       "str"
      ]
     },
     "execution_count": 7,
     "metadata": {},
     "output_type": "execute_result"
    }
   ],
   "source": [
    "# Listagem 5:\n",
    "poema: str = \"Bom dia!\"\n",
    "\n",
    "print(poema)\n",
    "\n",
    "type(poema)"
   ]
  },
  {
   "cell_type": "code",
   "execution_count": 9,
   "id": "827dbf2e",
   "metadata": {},
   "outputs": [
    {
     "data": {
      "text/plain": [
       "'m'"
      ]
     },
     "execution_count": 9,
     "metadata": {},
     "output_type": "execute_result"
    }
   ],
   "source": [
    "poema[2]"
   ]
  },
  {
   "cell_type": "code",
   "execution_count": null,
   "id": "c5a46bb4",
   "metadata": {},
   "outputs": [],
   "source": []
  }
 ],
 "metadata": {
  "kernelspec": {
   "display_name": "Python 3 (ipykernel)",
   "language": "python",
   "name": "python3"
  },
  "language_info": {
   "codemirror_mode": {
    "name": "ipython",
    "version": 3
   },
   "file_extension": ".py",
   "mimetype": "text/x-python",
   "name": "python",
   "nbconvert_exporter": "python",
   "pygments_lexer": "ipython3",
   "version": "3.11.5"
  }
 },
 "nbformat": 4,
 "nbformat_minor": 5
}
