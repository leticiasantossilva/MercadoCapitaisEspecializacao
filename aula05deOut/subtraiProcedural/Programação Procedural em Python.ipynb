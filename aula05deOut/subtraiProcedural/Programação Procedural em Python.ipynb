{
 "cells": [
  {
   "cell_type": "markdown",
   "id": "8414213d",
   "metadata": {},
   "source": [
    "## Programação Procedural em Phyton\n",
    "\n",
    "Veja como se escreve uma função em Python."
   ]
  },
  {
   "cell_type": "code",
   "execution_count": 1,
   "id": "c4d8e527",
   "metadata": {},
   "outputs": [],
   "source": [
    "# Listagem 1\n",
    "\n",
    "\n",
    "def quadratica(x: float) -> float:   # o segundo 'float' não é necessário\n",
    "    return x*x"
   ]
  },
  {
   "cell_type": "code",
   "execution_count": 2,
   "id": "322879d6",
   "metadata": {},
   "outputs": [
    {
     "data": {
      "text/plain": [
       "9"
      ]
     },
     "execution_count": 2,
     "metadata": {},
     "output_type": "execute_result"
    }
   ],
   "source": [
    "quadratica(3)"
   ]
  },
  {
   "cell_type": "code",
   "execution_count": 3,
   "id": "c51b0d87",
   "metadata": {},
   "outputs": [
    {
     "data": {
      "text/plain": [
       "169"
      ]
     },
     "execution_count": 3,
     "metadata": {},
     "output_type": "execute_result"
    }
   ],
   "source": [
    "quadratica(13)"
   ]
  },
  {
   "cell_type": "code",
   "execution_count": 4,
   "id": "b394abab",
   "metadata": {},
   "outputs": [],
   "source": [
    "# Listagem 2\n",
    "def cubica(x):\n",
    "    return x**3"
   ]
  },
  {
   "cell_type": "code",
   "execution_count": 5,
   "id": "a26ff310",
   "metadata": {},
   "outputs": [
    {
     "data": {
      "text/plain": [
       "27"
      ]
     },
     "execution_count": 5,
     "metadata": {},
     "output_type": "execute_result"
    }
   ],
   "source": [
    "cubica(3)"
   ]
  },
  {
   "cell_type": "code",
   "execution_count": 7,
   "id": "1b1ab00a",
   "metadata": {},
   "outputs": [
    {
     "name": "stdout",
     "output_type": "stream",
     "text": [
      "[1, 2, 4, 5]\n"
     ]
    }
   ],
   "source": [
    "# Método append das listas\n",
    "\n",
    "lista = [1, 2, 4]\n",
    "\n",
    "lista.append(5)\n",
    "\n",
    "print(lista)"
   ]
  },
  {
   "cell_type": "code",
   "execution_count": 8,
   "id": "21a3b428",
   "metadata": {},
   "outputs": [
    {
     "name": "stdout",
     "output_type": "stream",
     "text": [
      "[]\n",
      "[1]\n"
     ]
    }
   ],
   "source": [
    "# Exemplo com lista vazia\n",
    "\n",
    "lista_vazia = []\n",
    "\n",
    "print(lista_vazia)\n",
    "\n",
    "\n",
    "lista_vazia.append(1)\n",
    "print(lista_vazia)"
   ]
  },
  {
   "cell_type": "code",
   "execution_count": null,
   "id": "35371a92",
   "metadata": {},
   "outputs": [],
   "source": []
  }
 ],
 "metadata": {
  "kernelspec": {
   "display_name": "Python 3 (ipykernel)",
   "language": "python",
   "name": "python3"
  },
  "language_info": {
   "codemirror_mode": {
    "name": "ipython",
    "version": 3
   },
   "file_extension": ".py",
   "mimetype": "text/x-python",
   "name": "python",
   "nbconvert_exporter": "python",
   "pygments_lexer": "ipython3",
   "version": "3.11.5"
  }
 },
 "nbformat": 4,
 "nbformat_minor": 5
}
